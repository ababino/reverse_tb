{
 "cells": [
  {
   "cell_type": "raw",
   "metadata": {},
   "source": [
    "---\n",
    "skip_showdoc: true\n",
    "skip_exec: true\n",
    "---"
   ]
  },
  {
   "cell_type": "markdown",
   "metadata": {},
   "source": [
    "# reverse_tb\n",
    "\n",
    "> a reverse traceback magic for jupyer notebooks"
   ]
  },
  {
   "cell_type": "markdown",
   "metadata": {},
   "source": [
    "## Install"
   ]
  },
  {
   "cell_type": "markdown",
   "metadata": {},
   "source": [
    "```sh\n",
    "pip install reverse_tb\n",
    "```"
   ]
  },
  {
   "cell_type": "markdown",
   "metadata": {},
   "source": [
    "## How to use"
   ]
  },
  {
   "cell_type": "code",
   "execution_count": null,
   "metadata": {},
   "outputs": [],
   "source": [
    "from reverse_tb.core import reverse_tb"
   ]
  },
  {
   "cell_type": "code",
   "execution_count": null,
   "metadata": {},
   "outputs": [],
   "source": [
    "def foo():\n",
    "    return bar()\n",
    "\n",
    "def bar():\n",
    "    return baz()\n",
    "\n",
    "def baz():\n",
    "    try:\n",
    "        qux()\n",
    "    except KeyError as e:\n",
    "        raise Exception\n",
    "    return qux()\n",
    "\n",
    "def qux():\n",
    "    d = {}\n",
    "    return d['key']"
   ]
  },
  {
   "cell_type": "code",
   "execution_count": null,
   "metadata": {},
   "outputs": [
    {
     "ename": "Exception",
     "evalue": "",
     "output_type": "error",
     "traceback": [
      "\u001b[0;31m---------------------------------------------------------------------------\u001b[0m",
      "\u001b[0;31mKeyError\u001b[0m                                  Traceback (most recent call last)",
      "Cell \u001b[0;32mIn[2], line 9\u001b[0m, in \u001b[0;36mbaz\u001b[0;34m()\u001b[0m\n\u001b[1;32m      8\u001b[0m \u001b[39mtry\u001b[39;00m:\n\u001b[0;32m----> 9\u001b[0m     qux()\n\u001b[1;32m     10\u001b[0m \u001b[39mexcept\u001b[39;00m \u001b[39mKeyError\u001b[39;00m \u001b[39mas\u001b[39;00m e:\n",
      "Cell \u001b[0;32mIn[2], line 16\u001b[0m, in \u001b[0;36mqux\u001b[0;34m()\u001b[0m\n\u001b[1;32m     15\u001b[0m d \u001b[39m=\u001b[39m {}\n\u001b[0;32m---> 16\u001b[0m \u001b[39mreturn\u001b[39;00m d[\u001b[39m'\u001b[39;49m\u001b[39mkey\u001b[39;49m\u001b[39m'\u001b[39;49m]\n",
      "\u001b[0;31mKeyError\u001b[0m: 'key'",
      "\nDuring handling of the above exception, another exception occurred:\n",
      "\u001b[0;31mException\u001b[0m                                 Traceback (most recent call last)",
      "Cell \u001b[0;32mIn[3], line 1\u001b[0m\n\u001b[0;32m----> 1\u001b[0m foo()\n",
      "Cell \u001b[0;32mIn[2], line 2\u001b[0m, in \u001b[0;36mfoo\u001b[0;34m()\u001b[0m\n\u001b[1;32m      1\u001b[0m \u001b[39mdef\u001b[39;00m \u001b[39mfoo\u001b[39m():\n\u001b[0;32m----> 2\u001b[0m     \u001b[39mreturn\u001b[39;00m bar()\n",
      "Cell \u001b[0;32mIn[2], line 5\u001b[0m, in \u001b[0;36mbar\u001b[0;34m()\u001b[0m\n\u001b[1;32m      4\u001b[0m \u001b[39mdef\u001b[39;00m \u001b[39mbar\u001b[39m():\n\u001b[0;32m----> 5\u001b[0m     \u001b[39mreturn\u001b[39;00m baz()\n",
      "Cell \u001b[0;32mIn[2], line 11\u001b[0m, in \u001b[0;36mbaz\u001b[0;34m()\u001b[0m\n\u001b[1;32m      9\u001b[0m     qux()\n\u001b[1;32m     10\u001b[0m \u001b[39mexcept\u001b[39;00m \u001b[39mKeyError\u001b[39;00m \u001b[39mas\u001b[39;00m e:\n\u001b[0;32m---> 11\u001b[0m     \u001b[39mraise\u001b[39;00m \u001b[39mException\u001b[39;00m\n\u001b[1;32m     12\u001b[0m \u001b[39mreturn\u001b[39;00m qux()\n",
      "\u001b[0;31mException\u001b[0m: "
     ]
    }
   ],
   "source": [
    "foo()"
   ]
  },
  {
   "attachments": {},
   "cell_type": "markdown",
   "metadata": {},
   "source": [
    "```python\n",
    "%%reverse_tb\n",
    "foo()\n",
    "```"
   ]
  },
  {
   "attachments": {},
   "cell_type": "markdown",
   "metadata": {},
   "source": [
    "```python\n",
    "---------------------------------------------------------------------------\n",
    "KeyError                                  Traceback (last call first)\n",
    "KeyError: 'key'\n",
    "Cell In[2], line 16, in qux()\n",
    "     15 d = {}\n",
    "---> 16 return d['key']\n",
    "        d = {}\n",
    "\n",
    "Cell In[2], line 9, in baz()\n",
    "      8 try:\n",
    "----> 9     qux()\n",
    "     10 except KeyError as e:\n",
    "\n",
    "\n",
    "During handling of the above exception, another exception occurred:\n",
    "\n",
    "Exception                                 Traceback (last call first)\n",
    "Exception: \n",
    "Cell In[2], line 11, in baz()\n",
    "      9     qux()\n",
    "     10 except KeyError as e:\n",
    "---> 11     raise Exception\n",
    "     12 return qux()\n",
    "\n",
    "Cell In[2], line 5, in bar()\n",
    "      4 def bar():\n",
    "----> 5     return baz()\n",
    "\n",
    "Cell In[2], line 2, in foo()\n",
    "      1 def foo():\n",
    "----> 2     return bar()\n",
    "\n",
    "Cell In[4], line 1\n",
    "----> 1 foo()\n",
    "```"
   ]
  }
 ],
 "metadata": {
  "kernelspec": {
   "display_name": "python3",
   "language": "python",
   "name": "python3"
  }
 },
 "nbformat": 4,
 "nbformat_minor": 4
}
