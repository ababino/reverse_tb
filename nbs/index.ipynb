{
 "cells": [
  {
   "cell_type": "raw",
   "metadata": {},
   "source": [
    "---\n",
    "skip_showdoc: true\n",
    "skip_exec: true\n",
    "---"
   ]
  },
  {
   "cell_type": "markdown",
   "metadata": {},
   "source": [
    "# reverse_tb\n",
    "\n",
    "> a reverse traceback magic for jupyer notebooks"
   ]
  },
  {
   "cell_type": "markdown",
   "metadata": {},
   "source": [
    "## Install"
   ]
  },
  {
   "cell_type": "markdown",
   "metadata": {},
   "source": [
    "```sh\n",
    "pip install reverse_tb\n",
    "```"
   ]
  },
  {
   "cell_type": "markdown",
   "metadata": {},
   "source": [
    "## How to use"
   ]
  },
  {
   "cell_type": "code",
   "execution_count": null,
   "metadata": {},
   "outputs": [],
   "source": [
    "from reverse_tb.core import reverse_tb"
   ]
  },
  {
   "cell_type": "code",
   "execution_count": null,
   "metadata": {},
   "outputs": [],
   "source": [
    "def foo():\n",
    "    return bar()\n",
    "\n",
    "def bar():\n",
    "    return baz()\n",
    "\n",
    "def baz():\n",
    "    try:\n",
    "        qux()\n",
    "    except KeyError as e:\n",
    "        raise Exception\n",
    "    return qux()\n",
    "\n",
    "def qux():\n",
    "    d = {}\n",
    "    return d['key']"
   ]
  },
  {
   "attachments": {},
   "cell_type": "markdown",
   "metadata": {},
   "source": [
    "```python\n",
    "foo()\n",
    "```"
   ]
  },
  {
   "attachments": {},
   "cell_type": "markdown",
   "metadata": {},
   "source": [
    "```python\n",
    "---------------------------------------------------------------------------\n",
    "KeyError                                  Traceback (most recent call last)\n",
    "Cell In[2], line 9, in baz()\n",
    "      8 try:\n",
    "----> 9     qux()\n",
    "     10 except KeyError as e:\n",
    "\n",
    "Cell In[2], line 16, in qux()\n",
    "     15 d = {}\n",
    "---> 16 return d['key']\n",
    "\n",
    "KeyError: 'key'\n",
    "\n",
    "During handling of the above exception, another exception occurred:\n",
    "\n",
    "Exception                                 Traceback (most recent call last)\n",
    "Cell In[3], line 1\n",
    "----> 1 foo()\n",
    "\n",
    "Cell In[2], line 2, in foo()\n",
    "      1 def foo():\n",
    "----> 2     return bar()\n",
    "\n",
    "Cell In[2], line 5, in bar()\n",
    "      4 def bar():\n",
    "----> 5     return baz()\n",
    "\n",
    "Cell In[2], line 11, in baz()\n",
    "      9     qux()\n",
    "     10 except KeyError as e:\n",
    "---> 11     raise Exception\n",
    "     12 return qux()\n",
    "\n",
    "Exception: \n",
    "```"
   ]
  },
  {
   "attachments": {},
   "cell_type": "markdown",
   "metadata": {},
   "source": [
    "```python\n",
    "%%reverse_tb\n",
    "foo()\n",
    "```"
   ]
  },
  {
   "attachments": {},
   "cell_type": "markdown",
   "metadata": {},
   "source": [
    "```python\n",
    "---------------------------------------------------------------------------\n",
    "KeyError                                  Traceback (last call first)\n",
    "KeyError: 'key'\n",
    "Cell In[2], line 16, in qux()\n",
    "     15 d = {}\n",
    "---> 16 return d['key']\n",
    "        d = {}\n",
    "\n",
    "Cell In[2], line 9, in baz()\n",
    "      8 try:\n",
    "----> 9     qux()\n",
    "     10 except KeyError as e:\n",
    "\n",
    "\n",
    "During handling of the above exception, another exception occurred:\n",
    "\n",
    "Exception                                 Traceback (last call first)\n",
    "Exception: \n",
    "Cell In[2], line 11, in baz()\n",
    "      9     qux()\n",
    "     10 except KeyError as e:\n",
    "---> 11     raise Exception\n",
    "     12 return qux()\n",
    "\n",
    "Cell In[2], line 5, in bar()\n",
    "      4 def bar():\n",
    "----> 5     return baz()\n",
    "\n",
    "Cell In[2], line 2, in foo()\n",
    "      1 def foo():\n",
    "----> 2     return bar()\n",
    "\n",
    "Cell In[4], line 1\n",
    "----> 1 foo()\n",
    "```"
   ]
  },
  {
   "attachments": {},
   "cell_type": "markdown",
   "metadata": {},
   "source": [
    "```python\n",
    "from reverse_tb.on import *\n",
    "foo()\n",
    "```"
   ]
  },
  {
   "cell_type": "markdown",
   "metadata": {},
   "source": [
    "```python\n",
    "---------------------------------------------------------------------------\n",
    "KeyError                                  Traceback (last call first)\n",
    "KeyError: 'key'\n",
    "Cell In[2], line 16, in qux()\n",
    "     15 d = {}\n",
    "---> 16 return d['key']\n",
    "        d = {}\n",
    "\n",
    "Cell In[2], line 9, in baz()\n",
    "      8 try:\n",
    "----> 9     qux()\n",
    "     10 except KeyError as e:\n",
    "\n",
    "\n",
    "During handling of the above exception, another exception occurred:\n",
    "\n",
    "Exception                                 Traceback (last call first)\n",
    "Exception: \n",
    "Cell In[2], line 11, in baz()\n",
    "      9     qux()\n",
    "     10 except KeyError as e:\n",
    "---> 11     raise Exception\n",
    "     12 return qux()\n",
    "\n",
    "Cell In[2], line 5, in bar()\n",
    "      4 def bar():\n",
    "----> 5     return baz()\n",
    "\n",
    "Cell In[2], line 2, in foo()\n",
    "      1 def foo():\n",
    "----> 2     return bar()\n",
    "\n",
    "Cell In[4], line 1\n",
    "----> 1 foo()\n",
    "```"
   ]
  },
  {
   "attachments": {},
   "cell_type": "markdown",
   "metadata": {},
   "source": [
    "```python\n",
    "reverse_tb_off()\n",
    "foo()\n",
    "```"
   ]
  },
  {
   "cell_type": "markdown",
   "metadata": {},
   "source": [
    "```python\n",
    "---------------------------------------------------------------------------\n",
    "KeyError                                  Traceback (most recent call last)\n",
    "Cell In[2], line 9, in baz()\n",
    "      8 try:\n",
    "----> 9     qux()\n",
    "     10 except KeyError as e:\n",
    "\n",
    "Cell In[2], line 16, in qux()\n",
    "     15 d = {}\n",
    "---> 16 return d['key']\n",
    "\n",
    "KeyError: 'key'\n",
    "\n",
    "During handling of the above exception, another exception occurred:\n",
    "\n",
    "Exception                                 Traceback (most recent call last)\n",
    "Cell In[3], line 1\n",
    "----> 1 foo()\n",
    "\n",
    "Cell In[2], line 2, in foo()\n",
    "      1 def foo():\n",
    "----> 2     return bar()\n",
    "\n",
    "Cell In[2], line 5, in bar()\n",
    "      4 def bar():\n",
    "----> 5     return baz()\n",
    "\n",
    "Cell In[2], line 11, in baz()\n",
    "      9     qux()\n",
    "     10 except KeyError as e:\n",
    "---> 11     raise Exception\n",
    "     12 return qux()\n",
    "\n",
    "Exception: \n",
    "```"
   ]
  }
 ],
 "metadata": {
  "kernelspec": {
   "display_name": "python3",
   "language": "python",
   "name": "python3"
  }
 },
 "nbformat": 4,
 "nbformat_minor": 4
}
