{
 "cells": [
  {
   "cell_type": "raw",
   "metadata": {},
   "source": [
    "---\n",
    "skip_showdoc: true\n",
    "skip_exec: true\n",
    "---"
   ]
  },
  {
   "cell_type": "markdown",
   "metadata": {},
   "source": [
    "# core\n",
    "\n",
    "> a reverse_tb jupyer magic"
   ]
  },
  {
   "cell_type": "code",
   "execution_count": null,
   "metadata": {},
   "outputs": [],
   "source": [
    "#| default_exp core"
   ]
  },
  {
   "cell_type": "code",
   "execution_count": null,
   "metadata": {},
   "outputs": [],
   "source": [
    "#| hide\n",
    "from nbdev.showdoc import *"
   ]
  },
  {
   "cell_type": "code",
   "execution_count": null,
   "metadata": {},
   "outputs": [],
   "source": [
    "#| export\n",
    "from contextlib import contextmanager\n",
    "from typing import Optional\n",
    "\n",
    "from fastcore.all import *\n",
    "from IPython.core.magic import register_cell_magic\n",
    "from IPython.core import ultratb"
   ]
  },
  {
   "cell_type": "code",
   "execution_count": null,
   "metadata": {},
   "outputs": [],
   "source": [
    "#| export\n",
    "class AutoFormattedReversedTB(ultratb.AutoFormattedTB):\n",
    "    \"\"\"A Traceback printer that reverse the order of the traceback, so that the most recent call is first.\"\"\"\n",
    "    def structured_traceback(self, etype, value, tb, tb_offset=None, context=5):\n",
    "        tb_list = super().structured_traceback(etype, value, tb, tb_offset, context)\n",
    "        reversed_tb_list = []\n",
    "        keep_in_place = ['During handling of the above exception, another exception occurred:',\n",
    "                         'Traceback (most recent call last)',\n",
    "                         '----------']\n",
    "        inds = [tb_list.index(x) for x in tb_list if any([o in x for o in keep_in_place])]\n",
    "        inds.append(len(tb_list))\n",
    "        for ind0, ind1 in zip(inds[:-1], inds[1:]):\n",
    "            reversed_tb_list.append(tb_list[ind0])\n",
    "            reversed_tb_list.extend(tb_list[ind1-1:ind0:-1])\n",
    "        reversed_tb_list= [x.replace('most recent call last', 'last call first') for x in reversed_tb_list]\n",
    "        return reversed_tb_list"
   ]
  },
  {
   "attachments": {},
   "cell_type": "markdown",
   "metadata": {},
   "source": [
    "Functions to globaly reverse or not all the tracebacks printed in the notebook."
   ]
  },
  {
   "cell_type": "code",
   "execution_count": null,
   "metadata": {},
   "outputs": [],
   "source": [
    "#| export\n",
    "def reverse_tb_on():\n",
    "    get_ipython().InteractiveTB = AutoFormattedReversedTB(mode='Verbose', color_scheme='Neutral', tb_offset=1)\n",
    "def reverse_tb_off(): \n",
    "    get_ipython().InteractiveTB = ultratb.AutoFormattedTB(mode='Verbose', color_scheme='Neutral', tb_offset=1)"
   ]
  },
  {
   "attachments": {},
   "cell_type": "markdown",
   "metadata": {},
   "source": [
    "A context manager will not reverse the traceback on its own because jupyter will exectue the cell, go to the `finally` statement and then print the traceback. So the context manager will not be able to reverse the traceback.\n",
    "\n",
    "But, together with the `reverse_tb` magic, it will work."
   ]
  },
  {
   "cell_type": "code",
   "execution_count": null,
   "metadata": {},
   "outputs": [],
   "source": [
    "#| export\n",
    "@contextmanager\n",
    "def reverse_traceback_ctx():\n",
    "    try:\n",
    "        reverse_tb_on()\n",
    "        yield\n",
    "    finally:\n",
    "        reverse_tb_off()"
   ]
  },
  {
   "cell_type": "code",
   "execution_count": null,
   "metadata": {},
   "outputs": [],
   "source": [
    "#| export\n",
    "@register_cell_magic\n",
    "def reverse_tb(line, cell):\n",
    "    \"\"\"A cell magic that reverses only the frames of the traceback of an error.\"\"\"\n",
    "    with reverse_traceback_ctx():\n",
    "        result = get_ipython().run_cell(cell)"
   ]
  },
  {
   "attachments": {},
   "cell_type": "markdown",
   "metadata": {},
   "source": [
    "## Tests"
   ]
  },
  {
   "cell_type": "code",
   "execution_count": null,
   "metadata": {},
   "outputs": [],
   "source": [
    "def foo():\n",
    "    return bar()\n",
    "\n",
    "def bar():\n",
    "    return baz()\n",
    "\n",
    "def baz():\n",
    "    try:\n",
    "        qux()\n",
    "    except KeyError as e:\n",
    "        raise Exception\n",
    "    return qux()\n",
    "\n",
    "def qux():\n",
    "    d = {}\n",
    "    return d['key']"
   ]
  },
  {
   "cell_type": "code",
   "execution_count": null,
   "metadata": {},
   "outputs": [
    {
     "ename": "Exception",
     "evalue": "",
     "output_type": "error",
     "traceback": [
      "\u001b[0;31m---------------------------------------------------------------------------\u001b[0m",
      "\u001b[0;31mKeyError\u001b[0m                                  Traceback (most recent call last)",
      "Cell \u001b[0;32mIn[4], line 9\u001b[0m, in \u001b[0;36mbaz\u001b[0;34m()\u001b[0m\n\u001b[1;32m      8\u001b[0m \u001b[39mtry\u001b[39;00m:\n\u001b[0;32m----> 9\u001b[0m     qux()\n\u001b[1;32m     10\u001b[0m \u001b[39mexcept\u001b[39;00m \u001b[39mKeyError\u001b[39;00m \u001b[39mas\u001b[39;00m e:\n",
      "Cell \u001b[0;32mIn[4], line 16\u001b[0m, in \u001b[0;36mqux\u001b[0;34m()\u001b[0m\n\u001b[1;32m     15\u001b[0m d \u001b[39m=\u001b[39m {}\n\u001b[0;32m---> 16\u001b[0m \u001b[39mreturn\u001b[39;00m d[\u001b[39m'\u001b[39;49m\u001b[39mkey\u001b[39;49m\u001b[39m'\u001b[39;49m]\n        d \u001b[0;34m= {}\u001b[0m\n",
      "\u001b[0;31mKeyError\u001b[0m: 'key'",
      "\nDuring handling of the above exception, another exception occurred:\n",
      "\u001b[0;31mException\u001b[0m                                 Traceback (most recent call last)",
      "Cell \u001b[0;32mIn[181], line 1\u001b[0m\n\u001b[0;32m----> 1\u001b[0m foo()\n",
      "Cell \u001b[0;32mIn[4], line 2\u001b[0m, in \u001b[0;36mfoo\u001b[0;34m()\u001b[0m\n\u001b[1;32m      1\u001b[0m \u001b[39mdef\u001b[39;00m \u001b[39mfoo\u001b[39m():\n\u001b[0;32m----> 2\u001b[0m     \u001b[39mreturn\u001b[39;00m bar()\n",
      "Cell \u001b[0;32mIn[4], line 5\u001b[0m, in \u001b[0;36mbar\u001b[0;34m()\u001b[0m\n\u001b[1;32m      4\u001b[0m \u001b[39mdef\u001b[39;00m \u001b[39mbar\u001b[39m():\n\u001b[0;32m----> 5\u001b[0m     \u001b[39mreturn\u001b[39;00m baz()\n",
      "Cell \u001b[0;32mIn[4], line 11\u001b[0m, in \u001b[0;36mbaz\u001b[0;34m()\u001b[0m\n\u001b[1;32m      9\u001b[0m     qux()\n\u001b[1;32m     10\u001b[0m \u001b[39mexcept\u001b[39;00m \u001b[39mKeyError\u001b[39;00m \u001b[39mas\u001b[39;00m e:\n\u001b[0;32m---> 11\u001b[0m     \u001b[39mraise\u001b[39;00m \u001b[39mException\u001b[39;00m\n\u001b[1;32m     12\u001b[0m \u001b[39mreturn\u001b[39;00m qux()\n",
      "\u001b[0;31mException\u001b[0m: "
     ]
    }
   ],
   "source": [
    "foo()"
   ]
  },
  {
   "cell_type": "code",
   "execution_count": null,
   "metadata": {},
   "outputs": [
    {
     "ename": "Exception",
     "evalue": "",
     "output_type": "error",
     "traceback": [
      "\u001b[0;31m---------------------------------------------------------------------------\u001b[0m",
      "\u001b[0;31mKeyError\u001b[0m                                  Traceback (last call first)",
      "\u001b[0;31mKeyError\u001b[0m: 'key'",
      "Cell \u001b[0;32mIn[4], line 16\u001b[0m, in \u001b[0;36mqux\u001b[0;34m()\u001b[0m\n\u001b[1;32m     15\u001b[0m d \u001b[39m=\u001b[39m {}\n\u001b[0;32m---> 16\u001b[0m \u001b[39mreturn\u001b[39;00m d[\u001b[39m'\u001b[39;49m\u001b[39mkey\u001b[39;49m\u001b[39m'\u001b[39;49m]\n        d \u001b[0;34m= {}\u001b[0m\n",
      "Cell \u001b[0;32mIn[4], line 9\u001b[0m, in \u001b[0;36mbaz\u001b[0;34m()\u001b[0m\n\u001b[1;32m      8\u001b[0m \u001b[39mtry\u001b[39;00m:\n\u001b[0;32m----> 9\u001b[0m     qux()\n\u001b[1;32m     10\u001b[0m \u001b[39mexcept\u001b[39;00m \u001b[39mKeyError\u001b[39;00m \u001b[39mas\u001b[39;00m e:\n",
      "\nDuring handling of the above exception, another exception occurred:\n",
      "\u001b[0;31mException\u001b[0m                                 Traceback (last call first)",
      "\u001b[0;31mException\u001b[0m: ",
      "Cell \u001b[0;32mIn[4], line 11\u001b[0m, in \u001b[0;36mbaz\u001b[0;34m()\u001b[0m\n\u001b[1;32m      9\u001b[0m     qux()\n\u001b[1;32m     10\u001b[0m \u001b[39mexcept\u001b[39;00m \u001b[39mKeyError\u001b[39;00m \u001b[39mas\u001b[39;00m e:\n\u001b[0;32m---> 11\u001b[0m     \u001b[39mraise\u001b[39;00m \u001b[39mException\u001b[39;00m\n\u001b[1;32m     12\u001b[0m \u001b[39mreturn\u001b[39;00m qux()\n",
      "Cell \u001b[0;32mIn[4], line 5\u001b[0m, in \u001b[0;36mbar\u001b[0;34m()\u001b[0m\n\u001b[1;32m      4\u001b[0m \u001b[39mdef\u001b[39;00m \u001b[39mbar\u001b[39m():\n\u001b[0;32m----> 5\u001b[0m     \u001b[39mreturn\u001b[39;00m baz()\n",
      "Cell \u001b[0;32mIn[4], line 2\u001b[0m, in \u001b[0;36mfoo\u001b[0;34m()\u001b[0m\n\u001b[1;32m      1\u001b[0m \u001b[39mdef\u001b[39;00m \u001b[39mfoo\u001b[39m():\n\u001b[0;32m----> 2\u001b[0m     \u001b[39mreturn\u001b[39;00m bar()\n",
      "Cell \u001b[0;32mIn[182], line 1\u001b[0m\n\u001b[0;32m----> 1\u001b[0m foo()\n"
     ]
    }
   ],
   "source": [
    "%%reverse_tb\n",
    "foo()"
   ]
  },
  {
   "attachments": {},
   "cell_type": "markdown",
   "metadata": {},
   "source": [
    "## Export"
   ]
  },
  {
   "cell_type": "code",
   "execution_count": null,
   "metadata": {},
   "outputs": [],
   "source": [
    "#| hide\n",
    "import nbdev; nbdev.nbdev_export()"
   ]
  }
 ],
 "metadata": {
  "kernelspec": {
   "display_name": "python3",
   "language": "python",
   "name": "python3"
  }
 },
 "nbformat": 4,
 "nbformat_minor": 4
}
