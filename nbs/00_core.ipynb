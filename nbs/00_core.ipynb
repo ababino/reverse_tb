{
 "cells": [
  {
   "cell_type": "raw",
   "metadata": {},
   "source": [
    "---\n",
    "skip_showdoc: true\n",
    "skip_exec: true\n",
    "---"
   ]
  },
  {
   "cell_type": "markdown",
   "metadata": {},
   "source": [
    "# core\n",
    "\n",
    "> a reverse_tb jupyer magic"
   ]
  },
  {
   "cell_type": "code",
   "execution_count": null,
   "metadata": {},
   "outputs": [],
   "source": [
    "#| default_exp core"
   ]
  },
  {
   "cell_type": "code",
   "execution_count": null,
   "metadata": {},
   "outputs": [],
   "source": [
    "#| hide\n",
    "from nbdev.showdoc import *"
   ]
  },
  {
   "cell_type": "code",
   "execution_count": null,
   "metadata": {},
   "outputs": [],
   "source": [
    "#| export\n",
    "from contextlib import contextmanager\n",
    "from typing import Optional\n",
    "\n",
    "from fastcore.all import *\n",
    "from IPython.core.magic import register_cell_magic\n",
    "from IPython.core import ultratb"
   ]
  },
  {
   "cell_type": "code",
   "execution_count": null,
   "metadata": {},
   "outputs": [],
   "source": [
    "#| export\n",
    "@contextmanager\n",
    "def redirect_jupyter_stderr():\n",
    "    ip = get_ipython()\n",
    "    showtraceback = ip.showtraceback\n",
    "    \n",
    "    try:\n",
    "        ip.showtraceback = noop\n",
    "        yield \n",
    "    except Exception as e:\n",
    "        pass\n",
    "    finally:\n",
    "        ip.showtraceback = showtraceback\n"
   ]
  },
  {
   "cell_type": "code",
   "execution_count": null,
   "metadata": {},
   "outputs": [],
   "source": [
    "#| export\n",
    "class ReverseTB(ultratb.VerboseTB):\n",
    "    def text(self, etype, value, tb, tb_offset: Optional[int] = None, context=5):\n",
    "        \"\"\"Return formatted traceback.\"\"\"\n",
    "        tb_list = self.structured_traceback(etype, value, tb,\n",
    "                                            tb_offset, context)\n",
    "        tb_list.reverse()\n",
    "        tb_list = [x.replace('most recent call last', 'last call first') for x in tb_list if '[... skipping hidden 1 frame]' not in x]\n",
    "        tb_list = tb_list[-1:]+tb_list[:-1]\n",
    "        return self.stb2text(tb_list)"
   ]
  },
  {
   "cell_type": "code",
   "execution_count": null,
   "metadata": {},
   "outputs": [],
   "source": [
    "#| export\n",
    "@register_cell_magic\n",
    "def reverse_tb(line, cell):\n",
    "    \"\"\"A cell magic that reverses only the frames of the traceback of an error.\"\"\"\n",
    "    # Execute the cell and get the result object\n",
    "    with redirect_jupyter_stderr():\n",
    "        result = get_ipython().run_cell(cell)\n",
    "    # If the execution was not successful, get the error\n",
    "    if not result.success:\n",
    "        e = result.error_in_exec\n",
    "        etype = result.error_before_exec or result.error_in_exec\n",
    "        tb = result.error_in_exec.__traceback__\n",
    "        # Get the formatted traceback\n",
    "        vtb = ReverseTB(color_scheme='Neutral')\n",
    "        tb_text = vtb.text(type(etype), e, tb)\n",
    "        print(tb_text)"
   ]
  },
  {
   "cell_type": "code",
   "execution_count": null,
   "metadata": {},
   "outputs": [],
   "source": [
    "def foo():\n",
    "    return bar()\n",
    "\n",
    "def bar():\n",
    "    return baz()\n",
    "\n",
    "def baz():\n",
    "    try:\n",
    "        qux()\n",
    "    except KeyError as e:\n",
    "        raise Exception\n",
    "    return qux()\n",
    "\n",
    "def qux():\n",
    "    d = {}\n",
    "    return d['key']"
   ]
  },
  {
   "cell_type": "code",
   "execution_count": null,
   "metadata": {},
   "outputs": [
    {
     "ename": "Exception",
     "evalue": "",
     "output_type": "error",
     "traceback": [
      "\u001b[0;31m---------------------------------------------------------------------------\u001b[0m",
      "\u001b[0;31mKeyError\u001b[0m                                  Traceback (most recent call last)",
      "Cell \u001b[0;32mIn[28], line 9\u001b[0m, in \u001b[0;36mbaz\u001b[0;34m()\u001b[0m\n\u001b[1;32m      8\u001b[0m \u001b[39mtry\u001b[39;00m:\n\u001b[0;32m----> 9\u001b[0m     qux()\n\u001b[1;32m     10\u001b[0m \u001b[39mexcept\u001b[39;00m \u001b[39mKeyError\u001b[39;00m \u001b[39mas\u001b[39;00m e:\n",
      "Cell \u001b[0;32mIn[28], line 16\u001b[0m, in \u001b[0;36mqux\u001b[0;34m()\u001b[0m\n\u001b[1;32m     15\u001b[0m d \u001b[39m=\u001b[39m {}\n\u001b[0;32m---> 16\u001b[0m \u001b[39mreturn\u001b[39;00m d[\u001b[39m'\u001b[39;49m\u001b[39mkey\u001b[39;49m\u001b[39m'\u001b[39;49m]\n",
      "\u001b[0;31mKeyError\u001b[0m: 'key'",
      "\nDuring handling of the above exception, another exception occurred:\n",
      "\u001b[0;31mException\u001b[0m                                 Traceback (most recent call last)",
      "Cell \u001b[0;32mIn[29], line 1\u001b[0m\n\u001b[0;32m----> 1\u001b[0m foo()\n",
      "Cell \u001b[0;32mIn[28], line 2\u001b[0m, in \u001b[0;36mfoo\u001b[0;34m()\u001b[0m\n\u001b[1;32m      1\u001b[0m \u001b[39mdef\u001b[39;00m \u001b[39mfoo\u001b[39m():\n\u001b[0;32m----> 2\u001b[0m     \u001b[39mreturn\u001b[39;00m bar()\n",
      "Cell \u001b[0;32mIn[28], line 5\u001b[0m, in \u001b[0;36mbar\u001b[0;34m()\u001b[0m\n\u001b[1;32m      4\u001b[0m \u001b[39mdef\u001b[39;00m \u001b[39mbar\u001b[39m():\n\u001b[0;32m----> 5\u001b[0m     \u001b[39mreturn\u001b[39;00m baz()\n",
      "Cell \u001b[0;32mIn[28], line 11\u001b[0m, in \u001b[0;36mbaz\u001b[0;34m()\u001b[0m\n\u001b[1;32m      9\u001b[0m     qux()\n\u001b[1;32m     10\u001b[0m \u001b[39mexcept\u001b[39;00m \u001b[39mKeyError\u001b[39;00m \u001b[39mas\u001b[39;00m e:\n\u001b[0;32m---> 11\u001b[0m     \u001b[39mraise\u001b[39;00m \u001b[39mException\u001b[39;00m\n\u001b[1;32m     12\u001b[0m \u001b[39mreturn\u001b[39;00m qux()\n",
      "\u001b[0;31mException\u001b[0m: "
     ]
    }
   ],
   "source": [
    "foo()"
   ]
  },
  {
   "cell_type": "code",
   "execution_count": null,
   "metadata": {},
   "outputs": [
    {
     "name": "stdout",
     "output_type": "stream",
     "text": [
      "\u001b[0;31m---------------------------------------------------------------------------\u001b[0m\n",
      "\u001b[0;31mException\u001b[0m: \n",
      "Cell \u001b[0;32mIn[28], line 11\u001b[0m, in \u001b[0;36mbaz\u001b[0;34m()\u001b[0m\n",
      "\u001b[1;32m      9\u001b[0m     qux()\n",
      "\u001b[1;32m     10\u001b[0m \u001b[38;5;28;01mexcept\u001b[39;00m \u001b[38;5;167;01mKeyError\u001b[39;00m \u001b[38;5;28;01mas\u001b[39;00m e:\n",
      "\u001b[0;32m---> 11\u001b[0m     \u001b[38;5;28;01mraise\u001b[39;00m \u001b[38;5;167;01mException\u001b[39;00m\n",
      "\u001b[1;32m     12\u001b[0m \u001b[38;5;28;01mreturn\u001b[39;00m qux()\n",
      "\n",
      "Cell \u001b[0;32mIn[28], line 5\u001b[0m, in \u001b[0;36mbar\u001b[0;34m()\u001b[0m\n",
      "\u001b[1;32m      4\u001b[0m \u001b[38;5;28;01mdef\u001b[39;00m \u001b[38;5;21mbar\u001b[39m():\n",
      "\u001b[0;32m----> 5\u001b[0m     \u001b[38;5;28;01mreturn\u001b[39;00m \u001b[43mbaz\u001b[49m\u001b[43m(\u001b[49m\u001b[43m)\u001b[49m\n",
      "\n",
      "Cell \u001b[0;32mIn[28], line 2\u001b[0m, in \u001b[0;36mfoo\u001b[0;34m()\u001b[0m\n",
      "\u001b[1;32m      1\u001b[0m \u001b[38;5;28;01mdef\u001b[39;00m \u001b[38;5;21mfoo\u001b[39m():\n",
      "\u001b[0;32m----> 2\u001b[0m     \u001b[38;5;28;01mreturn\u001b[39;00m \u001b[43mbar\u001b[49m\u001b[43m(\u001b[49m\u001b[43m)\u001b[49m\n",
      "\n",
      "Cell \u001b[0;32mIn[30], line 1\u001b[0m\n",
      "\u001b[0;32m----> 1\u001b[0m \u001b[43mfoo\u001b[49m\u001b[43m(\u001b[49m\u001b[43m)\u001b[49m\n",
      "\n",
      "\u001b[0;31mException\u001b[0m                                 Traceback (last call first)\n",
      "\n",
      "During handling of the above exception, another exception occurred:\n",
      "\n",
      "\u001b[0;31mKeyError\u001b[0m: 'key'\n",
      "Cell \u001b[0;32mIn[28], line 16\u001b[0m, in \u001b[0;36mqux\u001b[0;34m()\u001b[0m\n",
      "\u001b[1;32m     15\u001b[0m d \u001b[38;5;241m=\u001b[39m {}\n",
      "\u001b[0;32m---> 16\u001b[0m \u001b[38;5;28;01mreturn\u001b[39;00m \u001b[43md\u001b[49m\u001b[43m[\u001b[49m\u001b[38;5;124;43m'\u001b[39;49m\u001b[38;5;124;43mkey\u001b[39;49m\u001b[38;5;124;43m'\u001b[39;49m\u001b[43m]\u001b[49m\n",
      "        d \u001b[0;34m= {}\u001b[0m\n",
      "\n",
      "Cell \u001b[0;32mIn[28], line 9\u001b[0m, in \u001b[0;36mbaz\u001b[0;34m()\u001b[0m\n",
      "\u001b[1;32m      8\u001b[0m \u001b[38;5;28;01mtry\u001b[39;00m:\n",
      "\u001b[0;32m----> 9\u001b[0m     \u001b[43mqux\u001b[49m\u001b[43m(\u001b[49m\u001b[43m)\u001b[49m\n",
      "\u001b[1;32m     10\u001b[0m \u001b[38;5;28;01mexcept\u001b[39;00m \u001b[38;5;167;01mKeyError\u001b[39;00m \u001b[38;5;28;01mas\u001b[39;00m e:\n",
      "\n",
      "\u001b[0;31mKeyError\u001b[0m                                  Traceback (last call first)\n"
     ]
    }
   ],
   "source": [
    "%%reverse_tb\n",
    "foo()"
   ]
  },
  {
   "cell_type": "code",
   "execution_count": null,
   "metadata": {},
   "outputs": [],
   "source": [
    "#| hide\n",
    "import nbdev; nbdev.nbdev_export()"
   ]
  }
 ],
 "metadata": {
  "kernelspec": {
   "display_name": "python3",
   "language": "python",
   "name": "python3"
  }
 },
 "nbformat": 4,
 "nbformat_minor": 4
}
